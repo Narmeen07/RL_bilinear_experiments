{
 "cells": [
  {
   "cell_type": "code",
   "execution_count": 10,
   "metadata": {},
   "outputs": [],
   "source": [
    "from src.ppo import *\n",
    "from src.heist import create_venv\n",
    "from src.bilinear_impala_simplified import BimpalaCNN\n",
    "from src.heist import load_model\n",
    "from src.helpers import ModelActivations\n",
    "from src.probing import *"
   ]
  },
  {
   "cell_type": "code",
   "execution_count": 11,
   "metadata": {},
   "outputs": [],
   "source": [
    "def add_activations_to_dataset(dataset, modelactivations, layers, batch_size=32):\n",
    "    dataset_with_activations = []\n",
    "    num_batches = (len(dataset) + batch_size - 1) // batch_size\n",
    "    \n",
    "    for i in tqdm(range(num_batches), desc=\"Computing activations in batches\"):\n",
    "        start_idx = i * batch_size\n",
    "        end_idx = min((i + 1) * batch_size, len(dataset))\n",
    "        batch = dataset[start_idx:end_idx]\n",
    "        \n",
    "        # Prepare batch of observations\n",
    "        observations = [data_point['observation'][0] for data_point in batch]\n",
    "        observations_array = np.array(observations)\n",
    "        \n",
    "        # Ensure the input has 4 dimensions: [batch, height, width, channels]\n",
    "        if observations_array.ndim == 3:\n",
    "            observations_array = np.expand_dims(observations_array, axis=0)\n",
    "        \n",
    "        # Convert to PyTorch tensor and move to the appropriate device\n",
    "        observations_tensor = torch.tensor(observations_array, dtype=torch.float32)\n",
    "        \n",
    "        \n",
    "        # Compute activations for the batch\n",
    "        with torch.no_grad():\n",
    "            _, activations = modelactivations.run_with_cache(observations_tensor, layers)\n",
    "        \n",
    "        # Add activations to each data point in the batch\n",
    "        for j, data_point in enumerate(batch):\n",
    "            new_data_point = data_point.copy()\n",
    "            new_data_point['activations'] = {\n",
    "                layer.replace('.', '_'): activations[layer.replace('.', '_')][j].cpu().numpy()\n",
    "                for layer in layers\n",
    "            }\n",
    "            dataset_with_activations.append(new_data_point)\n",
    "    \n",
    "    return dataset_with_activations"
   ]
  },
  {
   "cell_type": "code",
   "execution_count": 12,
   "metadata": {},
   "outputs": [
    {
     "name": "stdout",
     "output_type": "stream",
     "text": [
      "Model loaded from /mnt/ssd-1/mechinterp/narmeen/bilinear_experiments_official/bilinear_experiments/bilinear_models/bimpala_maze_simplified.pt\n",
      "BimpalaCNN(\n",
      "  (conv): Conv2d(3, 32, kernel_size=(7, 7), stride=(1, 1), padding=(3, 3))\n",
      "  (conv_seqs): ModuleList(\n",
      "    (0-2): 3 x ConvSequence(\n",
      "      (max_pool2d): MaxPool2d(kernel_size=7, stride=2, padding=3, dilation=1, ceil_mode=False)\n",
      "      (res_block0): ResidualBlock(\n",
      "        (conv0): Conv2d(32, 32, kernel_size=(7, 7), stride=(1, 1), padding=(3, 3), bias=False)\n",
      "        (conv1): Conv2d(32, 32, kernel_size=(7, 7), stride=(1, 1), padding=(3, 3), bias=False)\n",
      "      )\n",
      "      (res_block1): ResidualBlock(\n",
      "        (conv0): Conv2d(32, 32, kernel_size=(7, 7), stride=(1, 1), padding=(3, 3), bias=False)\n",
      "        (conv1): Conv2d(32, 32, kernel_size=(7, 7), stride=(1, 1), padding=(3, 3), bias=False)\n",
      "      )\n",
      "    )\n",
      "  )\n",
      "  (hidden_fc1): Linear(in_features=2048, out_features=256, bias=False)\n",
      "  (hidden_fc2): Linear(in_features=2048, out_features=256, bias=False)\n",
      "  (logits_fc): Linear(in_features=256, out_features=15, bias=True)\n",
      "  (value_fc): Linear(in_features=256, out_features=1, bias=True)\n",
      ")\n",
      "conv.weight\n",
      "conv.bias\n",
      "conv_seqs.0.res_block0.conv0.weight\n",
      "conv_seqs.0.res_block0.conv1.weight\n",
      "conv_seqs.0.res_block1.conv0.weight\n",
      "conv_seqs.0.res_block1.conv1.weight\n",
      "conv_seqs.1.res_block0.conv0.weight\n",
      "conv_seqs.1.res_block0.conv1.weight\n",
      "conv_seqs.1.res_block1.conv0.weight\n",
      "conv_seqs.1.res_block1.conv1.weight\n",
      "conv_seqs.2.res_block0.conv0.weight\n",
      "conv_seqs.2.res_block0.conv1.weight\n",
      "conv_seqs.2.res_block1.conv0.weight\n",
      "conv_seqs.2.res_block1.conv1.weight\n",
      "hidden_fc1.weight\n",
      "hidden_fc2.weight\n",
      "logits_fc.weight\n",
      "logits_fc.bias\n",
      "value_fc.weight\n",
      "value_fc.bias\n"
     ]
    },
    {
     "name": "stderr",
     "output_type": "stream",
     "text": [
      "/mnt/ssd-1/mechinterp/narmeen/bilinear_experiments_official/bilinear_experiments/src/heist.py:55: FutureWarning: You are using `torch.load` with `weights_only=False` (the current default value), which uses the default pickle module implicitly. It is possible to construct malicious pickle data which will execute arbitrary code during unpickling (See https://github.com/pytorch/pytorch/blob/main/SECURITY.md#untrusted-models for more details). In a future release, the default value for `weights_only` will be flipped to `True`. This limits the functions that could be executed during unpickling. Arbitrary objects will no longer be allowed to be loaded via this mode unless they are explicitly allowlisted by the user via `torch.serialization.add_safe_globals`. We recommend you start setting `weights_only=True` for any use case where you don't have full control of the loaded file. Please open an issue on GitHub for any issues related to this experimental feature.\n",
      "  state_dict = torch.load(model_path)\n"
     ]
    }
   ],
   "source": [
    "model_path = \"/mnt/ssd-1/mechinterp/narmeen/bilinear_experiments_official/bilinear_experiments/bilinear_models/bimpala_maze_simplified.pt\"\n",
    "model =load_model(model_path,7)\n",
    "print(model)\n",
    "for k in model.state_dict():\n",
    "    print(k)\n",
    "state_dict = model.state_dict()"
   ]
  },
  {
   "cell_type": "code",
   "execution_count": 13,
   "metadata": {},
   "outputs": [
    {
     "name": "stderr",
     "output_type": "stream",
     "text": [
      "Generating dataset:   0%|          | 0/500 [00:00<?, ?it/s]"
     ]
    },
    {
     "name": "stderr",
     "output_type": "stream",
     "text": [
      "Generating dataset:  18%|█▊        | 92/500 [00:31<05:58,  1.14it/s]"
     ]
    },
    {
     "name": "stdout",
     "output_type": "stream",
     "text": [
      "Warning: manual reset ignored\n"
     ]
    },
    {
     "name": "stderr",
     "output_type": "stream",
     "text": [
      "Generating dataset:  27%|██▋       | 133/500 [00:44<03:59,  1.53it/s]"
     ]
    },
    {
     "name": "stdout",
     "output_type": "stream",
     "text": [
      "Warning: manual reset ignored\n"
     ]
    },
    {
     "name": "stderr",
     "output_type": "stream",
     "text": [
      "Generating dataset:  27%|██▋       | 134/500 [00:46<05:55,  1.03it/s]"
     ]
    },
    {
     "name": "stdout",
     "output_type": "stream",
     "text": [
      "Warning: manual reset ignored\n"
     ]
    },
    {
     "name": "stderr",
     "output_type": "stream",
     "text": [
      "Generating dataset:  27%|██▋       | 135/500 [00:48<07:15,  1.19s/it]"
     ]
    },
    {
     "name": "stdout",
     "output_type": "stream",
     "text": [
      "Warning: manual reset ignored\n"
     ]
    },
    {
     "name": "stderr",
     "output_type": "stream",
     "text": [
      "Generating dataset:  27%|██▋       | 136/500 [00:50<08:35,  1.42s/it]"
     ]
    },
    {
     "name": "stdout",
     "output_type": "stream",
     "text": [
      "Warning: manual reset ignored\n"
     ]
    },
    {
     "name": "stderr",
     "output_type": "stream",
     "text": [
      "Generating dataset:  32%|███▏      | 159/500 [00:59<03:31,  1.61it/s]"
     ]
    },
    {
     "name": "stdout",
     "output_type": "stream",
     "text": [
      "Warning: manual reset ignored\n"
     ]
    },
    {
     "name": "stderr",
     "output_type": "stream",
     "text": [
      "Generating dataset:  32%|███▏      | 160/500 [01:01<05:26,  1.04it/s]"
     ]
    },
    {
     "name": "stdout",
     "output_type": "stream",
     "text": [
      "Warning: manual reset ignored\n"
     ]
    },
    {
     "name": "stderr",
     "output_type": "stream",
     "text": [
      "Generating dataset:  32%|███▏      | 161/500 [01:03<06:40,  1.18s/it]"
     ]
    },
    {
     "name": "stdout",
     "output_type": "stream",
     "text": [
      "Warning: manual reset ignored\n"
     ]
    },
    {
     "name": "stderr",
     "output_type": "stream",
     "text": [
      "Generating dataset:  32%|███▏      | 162/500 [01:04<07:39,  1.36s/it]"
     ]
    },
    {
     "name": "stdout",
     "output_type": "stream",
     "text": [
      "Warning: manual reset ignored\n"
     ]
    },
    {
     "name": "stderr",
     "output_type": "stream",
     "text": [
      "Generating dataset:  36%|███▌      | 179/500 [01:13<03:28,  1.54it/s]"
     ]
    },
    {
     "name": "stdout",
     "output_type": "stream",
     "text": [
      "Warning: manual reset ignored\n"
     ]
    },
    {
     "name": "stderr",
     "output_type": "stream",
     "text": [
      "Generating dataset:  36%|███▌      | 180/500 [01:15<05:22,  1.01s/it]"
     ]
    },
    {
     "name": "stdout",
     "output_type": "stream",
     "text": [
      "Warning: manual reset ignored\n"
     ]
    },
    {
     "name": "stderr",
     "output_type": "stream",
     "text": [
      "Generating dataset:  71%|███████▏  | 357/500 [01:58<01:53,  1.26it/s]"
     ]
    },
    {
     "name": "stdout",
     "output_type": "stream",
     "text": [
      "Warning: manual reset ignored\n"
     ]
    },
    {
     "name": "stderr",
     "output_type": "stream",
     "text": [
      "Generating dataset:  72%|███████▏  | 358/500 [02:00<02:34,  1.09s/it]"
     ]
    },
    {
     "name": "stdout",
     "output_type": "stream",
     "text": [
      "Warning: manual reset ignored\n"
     ]
    },
    {
     "name": "stderr",
     "output_type": "stream",
     "text": [
      "Generating dataset:  72%|███████▏  | 359/500 [02:02<03:12,  1.36s/it]"
     ]
    },
    {
     "name": "stdout",
     "output_type": "stream",
     "text": [
      "Warning: manual reset ignored\n"
     ]
    },
    {
     "name": "stderr",
     "output_type": "stream",
     "text": [
      "Generating dataset:  72%|███████▏  | 360/500 [02:04<03:30,  1.50s/it]"
     ]
    },
    {
     "name": "stdout",
     "output_type": "stream",
     "text": [
      "Warning: manual reset ignored\n"
     ]
    },
    {
     "name": "stderr",
     "output_type": "stream",
     "text": [
      "Generating dataset:  73%|███████▎  | 364/500 [02:08<02:45,  1.21s/it]"
     ]
    },
    {
     "name": "stdout",
     "output_type": "stream",
     "text": [
      "Warning: manual reset ignored\n"
     ]
    },
    {
     "name": "stderr",
     "output_type": "stream",
     "text": [
      "Generating dataset:  73%|███████▎  | 365/500 [02:10<03:13,  1.43s/it]"
     ]
    },
    {
     "name": "stdout",
     "output_type": "stream",
     "text": [
      "Warning: manual reset ignored\n"
     ]
    },
    {
     "name": "stderr",
     "output_type": "stream",
     "text": [
      "Generating dataset:  91%|█████████ | 455/500 [02:40<00:27,  1.65it/s]"
     ]
    },
    {
     "name": "stdout",
     "output_type": "stream",
     "text": [
      "Warning: manual reset ignored\n"
     ]
    },
    {
     "name": "stderr",
     "output_type": "stream",
     "text": [
      "Generating dataset:  91%|█████████ | 456/500 [02:42<00:42,  1.05it/s]"
     ]
    },
    {
     "name": "stdout",
     "output_type": "stream",
     "text": [
      "Warning: manual reset ignored\n"
     ]
    },
    {
     "name": "stderr",
     "output_type": "stream",
     "text": [
      "Generating dataset:  91%|█████████▏| 457/500 [02:44<00:51,  1.19s/it]"
     ]
    },
    {
     "name": "stdout",
     "output_type": "stream",
     "text": [
      "Warning: manual reset ignored\n"
     ]
    },
    {
     "name": "stderr",
     "output_type": "stream",
     "text": [
      "Generating dataset:  92%|█████████▏| 458/500 [02:46<00:59,  1.42s/it]"
     ]
    },
    {
     "name": "stdout",
     "output_type": "stream",
     "text": [
      "Warning: manual reset ignored\n"
     ]
    },
    {
     "name": "stderr",
     "output_type": "stream",
     "text": [
      "Generating dataset: 100%|██████████| 500/500 [03:00<00:00,  2.77it/s]\n"
     ]
    }
   ],
   "source": [
    "env = create_venv()\n",
    "agent = PPO(model, device=\"cuda\" if torch.cuda.is_available() else \"cpu\")    \n",
    "dataset = agent.create_dataset_with_labels(env, num_episodes=500, max_steps_per_episode=100)"
   ]
  },
  {
   "cell_type": "code",
   "execution_count": 14,
   "metadata": {},
   "outputs": [
    {
     "name": "stderr",
     "output_type": "stream",
     "text": [
      "Computing activations in batches: 100%|██████████| 290/290 [00:03<00:00, 93.81it/s] \n"
     ]
    }
   ],
   "source": [
    "modelactivations = ModelActivations(model)\n",
    "complete_dataset = add_activations_to_dataset(dataset, modelactivations, [\"conv_seqs.0.res_block0.conv1\"], batch_size=32)"
   ]
  },
  {
   "cell_type": "code",
   "execution_count": 8,
   "metadata": {},
   "outputs": [
    {
     "data": {
      "text/plain": [
       "{'observation': array([[[[201, 152, 105],\n",
       "          [201, 152, 105],\n",
       "          [189, 137,  88],\n",
       "          ...,\n",
       "          [199, 150, 102],\n",
       "          [189, 137,  88],\n",
       "          [189, 137,  88]],\n",
       " \n",
       "         [[201, 152, 105],\n",
       "          [201, 152, 105],\n",
       "          [197, 143,  92],\n",
       "          ...,\n",
       "          [201, 152, 105],\n",
       "          [197, 143,  92],\n",
       "          [197, 143,  92]],\n",
       " \n",
       "         [[201, 152, 105],\n",
       "          [201, 152, 105],\n",
       "          [189, 137,  88],\n",
       "          ...,\n",
       "          [201, 152, 105],\n",
       "          [189, 137,  88],\n",
       "          [189, 137,  88]],\n",
       " \n",
       "         ...,\n",
       " \n",
       "         [[197, 143,  92],\n",
       "          [197, 143,  92],\n",
       "          [201, 152, 105],\n",
       "          ...,\n",
       "          [197, 143,  92],\n",
       "          [201, 152, 105],\n",
       "          [201, 152, 105]],\n",
       " \n",
       "         [[189, 137,  88],\n",
       "          [189, 137,  88],\n",
       "          [189, 137,  88],\n",
       "          ...,\n",
       "          [189, 137,  88],\n",
       "          [189, 137,  88],\n",
       "          [189, 137,  88]],\n",
       " \n",
       "         [[197, 143,  92],\n",
       "          [197, 143,  92],\n",
       "          [201, 152, 105],\n",
       "          ...,\n",
       "          [197, 143,  92],\n",
       "          [201, 152, 105],\n",
       "          [201, 152, 105]]]], dtype=uint8),\n",
       " 'next_observation': array([[[[201, 152, 105],\n",
       "          [201, 152, 105],\n",
       "          [189, 137,  88],\n",
       "          ...,\n",
       "          [199, 150, 102],\n",
       "          [189, 137,  88],\n",
       "          [189, 137,  88]],\n",
       " \n",
       "         [[201, 152, 105],\n",
       "          [201, 152, 105],\n",
       "          [197, 143,  92],\n",
       "          ...,\n",
       "          [201, 152, 105],\n",
       "          [197, 143,  92],\n",
       "          [197, 143,  92]],\n",
       " \n",
       "         [[201, 152, 105],\n",
       "          [201, 152, 105],\n",
       "          [189, 137,  88],\n",
       "          ...,\n",
       "          [201, 152, 105],\n",
       "          [189, 137,  88],\n",
       "          [189, 137,  88]],\n",
       " \n",
       "         ...,\n",
       " \n",
       "         [[197, 143,  92],\n",
       "          [197, 143,  92],\n",
       "          [201, 152, 105],\n",
       "          ...,\n",
       "          [197, 143,  92],\n",
       "          [201, 152, 105],\n",
       "          [201, 152, 105]],\n",
       " \n",
       "         [[189, 137,  88],\n",
       "          [189, 137,  88],\n",
       "          [189, 137,  88],\n",
       "          ...,\n",
       "          [189, 137,  88],\n",
       "          [189, 137,  88],\n",
       "          [189, 137,  88]],\n",
       " \n",
       "         [[197, 143,  92],\n",
       "          [197, 143,  92],\n",
       "          [201, 152, 105],\n",
       "          ...,\n",
       "          [197, 143,  92],\n",
       "          [201, 152, 105],\n",
       "          [201, 152, 105]]]], dtype=uint8),\n",
       " 'action': array([5]),\n",
       " 'labels': {'cheese_presence': array([0, 0, 0, 0, 0, 0, 0, 0, 0, 0, 0, 0, 0, 0, 0, 0, 0, 0, 0, 0, 0, 0,\n",
       "         0, 0, 0, 0, 0, 0, 0, 0, 0, 0, 0, 0, 0, 0, 0, 0, 0, 0, 0, 0, 0, 0,\n",
       "         0, 0, 0, 0, 0, 0, 0, 0, 0, 0, 0, 0, 0, 0, 0, 0, 0, 0, 0, 0, 0, 0,\n",
       "         0, 0, 0, 0, 0, 0, 0, 0, 0, 0, 0, 0, 0, 0, 0, 0, 0, 0, 0, 0, 0, 0,\n",
       "         0, 0, 0, 0, 0, 0, 0, 0, 0, 0, 0, 0, 0, 0, 0, 0, 0, 0, 0, 0, 0, 0,\n",
       "         0, 0, 0, 0, 0, 0, 0, 0, 0, 0, 0, 0, 0, 0, 0, 0, 0, 0, 0, 0, 0, 0,\n",
       "         0, 0, 0, 0, 0, 0, 0, 0, 1, 0, 0, 0, 0, 0, 0, 0, 0, 0, 0, 0, 0, 0,\n",
       "         0, 0, 0, 0, 0, 0, 0, 0, 0, 0, 0, 0, 0, 0, 0, 0, 0, 0, 0, 0, 0, 0,\n",
       "         0, 0, 0, 0, 0, 0, 0, 0, 0, 0, 0, 0, 0, 0, 0, 0, 0, 0, 0, 0, 0, 0,\n",
       "         0, 0, 0, 0, 0, 0, 0, 0, 0, 0, 0, 0, 0, 0, 0, 0, 0, 0, 0, 0, 0, 0,\n",
       "         0, 0, 0, 0, 0]),\n",
       "  'wall_presence': array([1, 1, 1, 1, 1, 1, 1, 1, 1, 1, 1, 1, 1, 1, 1, 1, 1, 1, 1, 1, 1, 1,\n",
       "         1, 1, 1, 1, 1, 1, 1, 1, 1, 1, 1, 1, 1, 1, 1, 1, 1, 1, 1, 1, 1, 1,\n",
       "         1, 1, 1, 1, 1, 1, 1, 1, 1, 1, 1, 1, 1, 1, 1, 1, 1, 1, 1, 1, 1, 1,\n",
       "         1, 1, 1, 1, 1, 1, 1, 1, 1, 1, 1, 1, 1, 1, 0, 1, 0, 0, 0, 1, 1, 1,\n",
       "         1, 1, 1, 1, 1, 1, 1, 0, 1, 0, 1, 0, 1, 1, 1, 1, 1, 1, 1, 1, 1, 1,\n",
       "         0, 0, 0, 1, 0, 1, 1, 1, 1, 1, 1, 1, 1, 1, 1, 0, 1, 0, 1, 1, 1, 1,\n",
       "         1, 1, 1, 1, 1, 1, 1, 1, 0, 1, 0, 0, 0, 1, 1, 1, 1, 1, 1, 1, 1, 1,\n",
       "         1, 1, 1, 1, 1, 1, 1, 1, 1, 1, 1, 1, 1, 1, 1, 1, 1, 1, 1, 1, 1, 1,\n",
       "         1, 1, 1, 1, 1, 1, 1, 1, 1, 1, 1, 1, 1, 1, 1, 1, 1, 1, 1, 1, 1, 1,\n",
       "         1, 1, 1, 1, 1, 1, 1, 1, 1, 1, 1, 1, 1, 1, 1, 1, 1, 1, 1, 1, 1, 1,\n",
       "         1, 1, 1, 1, 1]),\n",
       "  'next_n_actions': array([5, 5, 5]),\n",
       "  'mouse_location': array([6, 5]),\n",
       "  'neighbouring_walls': {'LEFT': (6, 4), 'RIGHT': (6, 6)}},\n",
       " 'activations': {'conv_seqs_0_res_block0_conv1': array([[[ 0.06188648,  0.08458126,  0.14698422, ...,  0.06661896,\n",
       "           -0.02892754, -0.03755518],\n",
       "          [ 0.03578151,  0.05332045,  0.09732296, ..., -0.08228582,\n",
       "           -0.21771584, -0.15172274],\n",
       "          [ 0.07983307,  0.10145713,  0.1089104 , ..., -0.09665166,\n",
       "           -0.28124005, -0.15726803],\n",
       "          ...,\n",
       "          [ 0.24720724,  0.23951127,  0.17550501, ..., -0.07159106,\n",
       "           -0.27717626, -0.09162657],\n",
       "          [ 0.18484232,  0.18776469,  0.14058143, ..., -0.07357787,\n",
       "           -0.22764106, -0.05827838],\n",
       "          [ 0.08942658,  0.08455893,  0.06351795, ..., -0.10321559,\n",
       "           -0.22476101, -0.06001578]],\n",
       "  \n",
       "         [[ 0.20413058,  0.22397198,  0.15823746, ...,  0.04854001,\n",
       "           -0.02637011, -0.01516807],\n",
       "          [ 0.18273816,  0.19098414,  0.07875433, ...,  0.04301324,\n",
       "           -0.04500037, -0.01560782],\n",
       "          [ 0.21191368,  0.15598358, -0.04220475, ..., -0.06601532,\n",
       "           -0.14725079, -0.08855987],\n",
       "          ...,\n",
       "          [ 0.01799282, -0.0927448 , -0.32638478, ..., -0.20617431,\n",
       "           -0.25453722, -0.13701238],\n",
       "          [ 0.03840557, -0.05480862, -0.2280073 , ..., -0.15621452,\n",
       "           -0.20957789, -0.08831249],\n",
       "          [ 0.03243863, -0.02628869, -0.1658656 , ..., -0.13440296,\n",
       "           -0.17614141, -0.07661343]],\n",
       "  \n",
       "         [[ 0.09929772,  0.2689176 ,  0.2521011 , ...,  0.04138415,\n",
       "            0.05368779,  0.02952716],\n",
       "          [ 0.0496904 ,  0.28488454,  0.26534298, ...,  0.07477152,\n",
       "            0.08577745,  0.06635207],\n",
       "          [ 0.02116222,  0.2921008 ,  0.27196172, ...,  0.11017243,\n",
       "            0.11159517,  0.09182251],\n",
       "          ...,\n",
       "          [ 0.07419866,  0.3720644 ,  0.3702373 , ...,  0.27626258,\n",
       "            0.23283052,  0.2069536 ],\n",
       "          [ 0.02217087,  0.2563015 ,  0.2577952 , ...,  0.21188278,\n",
       "            0.19074316,  0.1827079 ],\n",
       "          [-0.04501281,  0.10804558,  0.08651689, ...,  0.0982015 ,\n",
       "            0.11636333,  0.13336809]],\n",
       "  \n",
       "         ...,\n",
       "  \n",
       "         [[ 0.02859115, -0.06105516, -0.13429387, ..., -0.15562576,\n",
       "           -0.19425245, -0.15666693],\n",
       "          [-0.04666898, -0.13600561, -0.20492007, ..., -0.20745544,\n",
       "           -0.22085336, -0.17208631],\n",
       "          [-0.00898786, -0.08208293, -0.13877222, ..., -0.17099437,\n",
       "           -0.18985337, -0.15937018],\n",
       "          ...,\n",
       "          [-0.20615952, -0.15971036, -0.12766908, ..., -0.09445414,\n",
       "           -0.11420926, -0.13649291],\n",
       "          [-0.2248765 , -0.15713997, -0.11006244, ..., -0.10893513,\n",
       "           -0.11157442, -0.13834722],\n",
       "          [-0.23088078, -0.15906319, -0.13086303, ..., -0.10598226,\n",
       "           -0.09305418, -0.12014252]],\n",
       "  \n",
       "         [[ 0.14130639,  0.23911645,  0.35471198, ...,  0.4698804 ,\n",
       "            0.37182075,  0.279546  ],\n",
       "          [ 0.13069418,  0.20576903,  0.2700827 , ...,  0.38895366,\n",
       "            0.29301697,  0.21827419],\n",
       "          [ 0.22683981,  0.30379987,  0.33066764, ...,  0.45022553,\n",
       "            0.35506856,  0.2922169 ],\n",
       "          ...,\n",
       "          [ 0.19148797,  0.27726057,  0.32310277, ...,  0.48407978,\n",
       "            0.3533833 ,  0.2710237 ],\n",
       "          [ 0.15993723,  0.19634685,  0.18814175, ...,  0.27236816,\n",
       "            0.1737264 ,  0.13137951],\n",
       "          [ 0.13369817,  0.12798359,  0.07899809, ...,  0.16120583,\n",
       "            0.08309328,  0.05358043]],\n",
       "  \n",
       "         [[-0.17180243, -0.19400577, -0.14355554, ..., -0.30923295,\n",
       "           -0.32761386, -0.3054698 ],\n",
       "          [-0.18198913, -0.23083423, -0.17027894, ..., -0.3259908 ,\n",
       "           -0.34792137, -0.32638487],\n",
       "          [-0.16840939, -0.23651698, -0.17915522, ..., -0.30982393,\n",
       "           -0.3465238 , -0.31282997],\n",
       "          ...,\n",
       "          [-0.2154748 , -0.32333767, -0.33180496, ..., -0.34839818,\n",
       "           -0.3697985 , -0.27943212],\n",
       "          [-0.25201002, -0.3560976 , -0.40842623, ..., -0.36959553,\n",
       "           -0.37208924, -0.26176998],\n",
       "          [-0.10429785, -0.17489858, -0.24123779, ..., -0.19628927,\n",
       "           -0.22724813, -0.16946304]]], dtype=float32)}}"
      ]
     },
     "execution_count": 8,
     "metadata": {},
     "output_type": "execute_result"
    }
   ],
   "source": [
    "complete_dataset[0]"
   ]
  },
  {
   "cell_type": "code",
   "execution_count": 16,
   "metadata": {},
   "outputs": [
    {
     "name": "stdout",
     "output_type": "stream",
     "text": [
      "Training Neighboring Walls Probe...\n",
      "Epoch 1, Validation Loss: 0.6187528603035828\n",
      "Epoch 2, Validation Loss: 0.6192062291605719\n",
      "Epoch 3, Validation Loss: 0.6192412982726919\n",
      "Epoch 4, Validation Loss: 0.6190288647495467\n",
      "Epoch 5, Validation Loss: 0.6187703229230026\n",
      "Epoch 6, Validation Loss: 0.6185027304394491\n",
      "Epoch 7, Validation Loss: 0.6182261299470375\n",
      "Epoch 8, Validation Loss: 0.6179341350136132\n",
      "Epoch 9, Validation Loss: 0.6176212245020373\n",
      "Epoch 10, Validation Loss: 0.617284698732968\n",
      "Training Next N Actions Probe...\n",
      "Original dataset size: 9273\n",
      "Filtered dataset size: 7505\n",
      "Removed 1768 observations with fewer than 5 actions\n",
      "Epoch 1, Training Loss: 1.2183730754446476, Validation Loss: 1.2442000394171857\n",
      "Epoch 2, Training Loss: 1.1433040135084314, Validation Loss: 1.135472963465021\n",
      "Epoch 3, Training Loss: 1.0920856893062592, Validation Loss: 1.092798944483412\n",
      "Epoch 4, Training Loss: 1.0591211414083521, Validation Loss: 1.0741190669384408\n",
      "Epoch 5, Training Loss: 1.033629465927469, Validation Loss: 1.064261347689527\n",
      "Epoch 6, Training Loss: 1.0139966328093346, Validation Loss: 1.0607476843164323\n",
      "Epoch 7, Training Loss: 0.9994931198815082, Validation Loss: 1.061975730226395\n",
      "Epoch 8, Training Loss: 0.9877602014135807, Validation Loss: 1.0657471976381667\n",
      "Epoch 9, Training Loss: 0.977578729391098, Validation Loss: 1.069816271041302\n",
      "Epoch 10, Training Loss: 0.9686727793292796, Validation Loss: 1.0729973569829414\n",
      "Training Cheese Presence Probe...\n",
      "Epoch 1, Validation Loss: 0.005531545361134641\n",
      "Epoch 2, Validation Loss: 0.004740508712812102\n",
      "Epoch 3, Validation Loss: 0.005055419904990764\n",
      "Epoch 4, Validation Loss: 0.005315386650557951\n",
      "Epoch 5, Validation Loss: 0.005825386190453769\n",
      "Epoch 6, Validation Loss: 0.006454568757707703\n",
      "Epoch 7, Validation Loss: 0.00680668224482235\n",
      "Epoch 8, Validation Loss: 0.007396511296974495\n",
      "Epoch 9, Validation Loss: 0.007554877128407905\n",
      "Epoch 10, Validation Loss: 0.007641360690317454\n",
      "Training Mouse Location Probe...\n",
      "Epoch 1, Validation Loss: 5.682603145467824\n",
      "Epoch 2, Validation Loss: 4.438184894364456\n",
      "Epoch 3, Validation Loss: 4.025352566406645\n",
      "Epoch 4, Validation Loss: 3.8192893122804574\n",
      "Epoch 5, Validation Loss: 3.709691105217769\n",
      "Epoch 6, Validation Loss: 3.603562558519429\n",
      "Epoch 7, Validation Loss: 3.482812215541971\n",
      "Epoch 8, Validation Loss: 3.3758553862571716\n",
      "Epoch 9, Validation Loss: 3.2922376846445016\n",
      "Epoch 10, Validation Loss: 3.2264583686302446\n"
     ]
    }
   ],
   "source": [
    "def train_all_probes(dataset, layer ='conv_seqs_0_res_block0_conv1'):\n",
    "    input_dim = dataset[0]['activations'][layer].size\n",
    "    grid_size = int(np.sqrt(len(dataset[0]['labels']['cheese_presence'])))\n",
    "    n_actions = 5\n",
    "\n",
    "    neighboring_walls_probe = NeighboringWallsProbe(input_dim)\n",
    "    n_action_classes = max(max(d['labels']['next_n_actions']) for d in dataset) + 1\n",
    "    next_n_actions_probe = NextNActionsProbe(input_dim, n_action_classes, n_actions)\n",
    "    cheese_presence_probe = CheesePresenceProbe(input_dim, grid_size)\n",
    "    mouse_location_probe = MouseLocationProbe(input_dim)\n",
    "\n",
    "    print(\"Training Neighboring Walls Probe...\")\n",
    "    neighboring_walls_probe.train(dataset)\n",
    "    print(\"Training Next N Actions Probe...\")\n",
    "    next_n_actions_probe.train(dataset)\n",
    "    print(\"Training Cheese Presence Probe...\")\n",
    "    cheese_presence_probe.train(dataset)\n",
    "    print(\"Training Mouse Location Probe...\")\n",
    "    mouse_location_probe.train(dataset)\n",
    "\n",
    "    return {\n",
    "        'neighboring_walls': neighboring_walls_probe,\n",
    "        'next_n_actions': next_n_actions_probe,\n",
    "        'cheese_presence': cheese_presence_probe,\n",
    "        'mouse_location': mouse_location_probe\n",
    "    }\n",
    "\n",
    "# Assuming 'dataset' is your list of data points\n",
    "probes = train_all_probes(complete_dataset)"
   ]
  }
 ],
 "metadata": {
  "kernelspec": {
   "display_name": ".venv",
   "language": "python",
   "name": "python3"
  },
  "language_info": {
   "codemirror_mode": {
    "name": "ipython",
    "version": 3
   },
   "file_extension": ".py",
   "mimetype": "text/x-python",
   "name": "python",
   "nbconvert_exporter": "python",
   "pygments_lexer": "ipython3",
   "version": "3.10.12"
  }
 },
 "nbformat": 4,
 "nbformat_minor": 2
}
